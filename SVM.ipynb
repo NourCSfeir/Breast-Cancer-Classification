{
 "cells": [
  {
   "cell_type": "markdown",
   "metadata": {},
   "source": [
    "SVM Model"
   ]
  },
  {
   "cell_type": "code",
   "execution_count": null,
   "metadata": {},
   "outputs": [],
   "source": []
  },
  {
   "cell_type": "code",
   "execution_count": 2,
   "metadata": {},
   "outputs": [],
   "source": [
    "from data_processing import train_images, train_labels, val_images, val_labels, test_images, test_labels\n",
    "import numpy as np\n",
    "from sklearn.svm import SVC\n",
    "from sklearn.metrics import accuracy_score, classification_report\n",
    "from sklearn.preprocessing import StandardScaler\n",
    "\n"
   ]
  },
  {
   "cell_type": "code",
   "execution_count": 3,
   "metadata": {},
   "outputs": [
    {
     "name": "stdout",
     "output_type": "stream",
     "text": [
      "(4102, 65536)\n"
     ]
    }
   ],
   "source": [
    "print(train_images.shape)"
   ]
  },
  {
   "cell_type": "code",
   "execution_count": 5,
   "metadata": {},
   "outputs": [
    {
     "name": "stdout",
     "output_type": "stream",
     "text": [
      "test\n",
      "going in\n",
      "see you on the other side\n",
      "Testing model with: C = 10, gamma = 0.1\n",
      "Training Accuracy: 1.0000\n",
      "Validation Accuracy: 0.3222\n",
      "going in\n",
      "see you on the other side\n",
      "Testing model with: C = 10, gamma = 1\n",
      "Training Accuracy: 1.0000\n",
      "Validation Accuracy: 0.3222\n",
      "going in\n",
      "see you on the other side\n",
      "Testing model with: C = 100, gamma = 0.1\n",
      "Training Accuracy: 1.0000\n",
      "Validation Accuracy: 0.3222\n",
      "going in\n",
      "see you on the other side\n",
      "Testing model with: C = 100, gamma = 1\n",
      "Training Accuracy: 1.0000\n",
      "Validation Accuracy: 0.3222\n"
     ]
    }
   ],
   "source": [
    "scaler = StandardScaler()\n",
    "train_images_scaled = scaler.fit_transform(train_images)\n",
    "val_images_scaled = scaler.fit_transform(val_images)\n",
    "test_images_scaled = scaler.fit_transform(test_images)\n",
    "print(\"test\")\n",
    "param_grid = {\n",
    "    'C': [ 10, 100],\n",
    "    'gamma': [ 0.1, 1],\n",
    "}\n",
    "\n",
    "best_val_accuracy = 0\n",
    "best_params = {}\n",
    "best_model = None\n",
    "\n",
    "for c in param_grid['C']:\n",
    "    for gamma in param_grid['gamma']:\n",
    "        model = SVC(C=c, gamma=gamma)\n",
    "        print(\"going in\")\n",
    "        model.fit(train_images_scaled, train_labels)\n",
    "        print(\"see you on the other side\")\n",
    "        train_predictions = model.predict(train_images_scaled)\n",
    "        train_accuracy = accuracy_score(train_labels, train_predictions)\n",
    "        val_predictions = model.predict(val_images_scaled)\n",
    "        val_accuracy = accuracy_score(val_labels, val_predictions)\n",
    "\n",
    "        print(f\"Testing model with: C = {c}, gamma = {gamma}\")\n",
    "        print(f\"Training Accuracy: {train_accuracy:.4f}\")\n",
    "        print(f\"Validation Accuracy: {val_accuracy:.4f}\")\n",
    "\n",
    "        if val_accuracy > best_val_accuracy:\n",
    "            best_val_accuracy = val_accuracy\n",
    "            best_params = {'C': c, 'gamma': gamma}\n",
    "            best_model = model\n",
    "\n"
   ]
  },
  {
   "cell_type": "code",
   "execution_count": 6,
   "metadata": {},
   "outputs": [
    {
     "name": "stdout",
     "output_type": "stream",
     "text": [
      "Best parameters found: {'C': 10, 'gamma': 0.1}\n",
      "Best validation accuracy: 0.32\n"
     ]
    }
   ],
   "source": [
    "\n",
    "print(\"Best parameters found:\", best_params)\n",
    "print(f\"Best validation accuracy: {best_val_accuracy:.2f}\")\n",
    "\n"
   ]
  },
  {
   "cell_type": "code",
   "execution_count": 7,
   "metadata": {},
   "outputs": [
    {
     "name": "stdout",
     "output_type": "stream",
     "text": [
      "Test accuracy: 0.3192307692307692\n",
      "Test Classification Report:\n",
      "               precision    recall  f1-score   support\n",
      "\n",
      "           1       0.32      1.00      0.48       166\n",
      "           2       0.00      0.00      0.00         8\n",
      "           3       0.00      0.00      0.00        67\n",
      "           4       0.00      0.00      0.00        52\n",
      "           5       0.00      0.00      0.00         4\n",
      "           6       0.00      0.00      0.00        12\n",
      "           7       0.00      0.00      0.00        67\n",
      "           8       0.00      0.00      0.00        78\n",
      "           9       0.00      0.00      0.00        66\n",
      "\n",
      "    accuracy                           0.32       520\n",
      "   macro avg       0.04      0.11      0.05       520\n",
      "weighted avg       0.10      0.32      0.15       520\n",
      "\n"
     ]
    },
    {
     "name": "stderr",
     "output_type": "stream",
     "text": [
      "c:\\Users\\moham\\AppData\\Local\\Programs\\Python\\Python311\\Lib\\site-packages\\sklearn\\metrics\\_classification.py:1471: UndefinedMetricWarning: Precision and F-score are ill-defined and being set to 0.0 in labels with no predicted samples. Use `zero_division` parameter to control this behavior.\n",
      "  _warn_prf(average, modifier, msg_start, len(result))\n",
      "c:\\Users\\moham\\AppData\\Local\\Programs\\Python\\Python311\\Lib\\site-packages\\sklearn\\metrics\\_classification.py:1471: UndefinedMetricWarning: Precision and F-score are ill-defined and being set to 0.0 in labels with no predicted samples. Use `zero_division` parameter to control this behavior.\n",
      "  _warn_prf(average, modifier, msg_start, len(result))\n",
      "c:\\Users\\moham\\AppData\\Local\\Programs\\Python\\Python311\\Lib\\site-packages\\sklearn\\metrics\\_classification.py:1471: UndefinedMetricWarning: Precision and F-score are ill-defined and being set to 0.0 in labels with no predicted samples. Use `zero_division` parameter to control this behavior.\n",
      "  _warn_prf(average, modifier, msg_start, len(result))\n"
     ]
    }
   ],
   "source": [
    "# Evaluate the best model only on the test set\n",
    "test_predictions = best_model.predict(test_images_scaled)\n",
    "test_accuracy = accuracy_score(test_labels, test_predictions)\n",
    "\n",
    "print(\"Test accuracy:\", test_accuracy)\n",
    "print(\"Test Classification Report:\\n\", classification_report(test_labels, test_predictions))"
   ]
  }
 ],
 "metadata": {
  "kernelspec": {
   "display_name": "Python 3",
   "language": "python",
   "name": "python3"
  },
  "language_info": {
   "codemirror_mode": {
    "name": "ipython",
    "version": 3
   },
   "file_extension": ".py",
   "mimetype": "text/x-python",
   "name": "python",
   "nbconvert_exporter": "python",
   "pygments_lexer": "ipython3",
   "version": "3.11.2"
  }
 },
 "nbformat": 4,
 "nbformat_minor": 2
}
